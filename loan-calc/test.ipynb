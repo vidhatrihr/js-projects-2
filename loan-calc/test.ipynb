{
 "cells": [
  {
   "cell_type": "code",
   "execution_count": 7,
   "id": "84f98f5a",
   "metadata": {},
   "outputs": [],
   "source": [
    "principal = 100\n",
    "interest_rate = 0.01  # p.m. (12% p.a.) 12/ 100 = 0.12 /12 = 0.01\n",
    "monthly_payment = 20"
   ]
  },
  {
   "cell_type": "code",
   "execution_count": 21,
   "id": "78ff37a2",
   "metadata": {},
   "outputs": [
    {
     "name": "stdout",
     "output_type": "stream",
     "text": [
      "1.00, 19.00, 81.00\n",
      "0.81, 19.19, 61.81\n",
      "0.62, 19.38, 42.43\n",
      "0.42, 19.58, 22.85\n",
      "0.23, 19.77, 3.08\n",
      "0.03, 19.97, -16.89\n"
     ]
    },
    {
     "data": {
      "text/plain": [
       "6"
      ]
     },
     "execution_count": 21,
     "metadata": {},
     "output_type": "execute_result"
    }
   ],
   "source": [
    "balance = principal\n",
    "\n",
    "months_count = 0\n",
    "while balance > 0:\n",
    "  interest_paid = balance * interest_rate\n",
    "  principal_paid = monthly_payment - interest_paid\n",
    "  balance -= principal_paid\n",
    "  print(f\"{interest_paid:.2f}, {principal_paid:.2f}, {balance:.2f}\")\n",
    "  months_count += 1\n",
    "\n",
    "months_count"
   ]
  },
  {
   "cell_type": "code",
   "execution_count": null,
   "id": "0b7faf14",
   "metadata": {},
   "outputs": [],
   "source": []
  }
 ],
 "metadata": {
  "kernelspec": {
   "display_name": "Python 3",
   "language": "python",
   "name": "python3"
  },
  "language_info": {
   "codemirror_mode": {
    "name": "ipython",
    "version": 3
   },
   "file_extension": ".py",
   "mimetype": "text/x-python",
   "name": "python",
   "nbconvert_exporter": "python",
   "pygments_lexer": "ipython3",
   "version": "3.12.6"
  }
 },
 "nbformat": 4,
 "nbformat_minor": 5
}
